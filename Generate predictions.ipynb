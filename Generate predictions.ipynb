{
 "cells": [
  {
   "cell_type": "code",
   "execution_count": 1,
   "id": "9dbe31dc",
   "metadata": {},
   "outputs": [],
   "source": [
    "import pandas as pd\n",
    "import numpy as np\n",
    "\n",
    "import SimulationEngine\n",
    "import PLScraper\n",
    "import manipulate\n",
    "\n",
    "from pandasql import sqldf\n",
    "import datetime"
   ]
  },
  {
   "cell_type": "code",
   "execution_count": 2,
   "id": "6fe1116c",
   "metadata": {},
   "outputs": [],
   "source": [
    "lastseason_fpath=\"data/2022-23 PL/2023_matchday_results.csv\"\n",
    "lastseason=pd.read_csv(lastseason_fpath)\n",
    "\n",
    "oldcols=['fixture.date','teams.home.name','goals.home','teams.away.name','goals.away']\n",
    "newcols=['Datetime','HomeTeam','HomeGoals','AwayTeam','AwayGoals']\n",
    "lastseason=manipulate.rename_cols(lastseason,oldcols,newcols)\n",
    "lastseason=lastseason[newcols]\n",
    "lastseason['Status']='FT'"
   ]
  },
  {
   "cell_type": "code",
   "execution_count": 3,
   "id": "80aaf4d2",
   "metadata": {},
   "outputs": [],
   "source": [
    "thisseason=PLScraper.scrape_pl_results()"
   ]
  },
  {
   "cell_type": "code",
   "execution_count": 4,
   "id": "c2ea8e99",
   "metadata": {},
   "outputs": [],
   "source": [
    "query='''\n",
    "    WITH FINAL AS\n",
    "    (\n",
    "     SELECT Datetime, HomeTeam, HomeGoals, AwayTeam, AwayGoals, Status\n",
    "    FROM lastseason\n",
    "    \n",
    "    UNION ALL\n",
    "    \n",
    "    SELECT Datetime, HomeTeam, HomeGoals, AwayTeam, AwayGoals, Status\n",
    "    FROM thisseason\n",
    "    WHERE\n",
    "    Datetime > (SELECT MAX(Datetime) FROM lastseason)\n",
    "    AND Status='FT'\n",
    "    )\n",
    "    SELECT *\n",
    "    FROM FINAL\n",
    "    ORDER BY Datetime DESC;\n",
    "    '''\n",
    "\n",
    "results_df=sqldf(query)\n",
    "\n",
    "#results_df=manipulate.df_strings_to_numbers(results_df,['HomeGoals','AwayGoals'])"
   ]
  },
  {
   "cell_type": "code",
   "execution_count": 5,
   "id": "2a26a0b5",
   "metadata": {},
   "outputs": [
    {
     "name": "stdout",
     "output_type": "stream",
     "text": [
      "28\n",
      "['Arsenal', 'Aston Villa', 'Bournemouth', 'Brentford', 'Brighton', 'Brighton and Hove Albion', 'Burnley', 'Chelsea', 'Crystal Palace', 'Everton', 'Fulham', 'Leeds', 'Leicester', 'Liverpool', 'Luton Town', 'Manchester City', 'Manchester United', 'Newcastle', 'Newcastle United', 'Nottingham Forest', 'Sheffield United', 'Southampton', 'Tottenham', 'Tottenham Hotspur', 'West Ham', 'West Ham United', 'Wolverhampton Wanderers', 'Wolves']\n"
     ]
    }
   ],
   "source": [
    "all_teams=pd.unique(results_df.HomeTeam)\n",
    "print(len(all_teams))\n",
    "print(sorted(all_teams))"
   ]
  },
  {
   "cell_type": "code",
   "execution_count": 6,
   "id": "6d58edb9",
   "metadata": {},
   "outputs": [
    {
     "name": "stdout",
     "output_type": "stream",
     "text": [
      "['Arsenal', 'Aston Villa', 'Bournemouth', 'Brentford', 'Brighton', 'Chelsea', 'Crystal Palace', 'Everton', 'Fulham', 'Leeds', 'Leicester', 'Liverpool', 'Manchester City', 'Manchester United', 'Newcastle', 'Nottingham Forest', 'Southampton', 'Tottenham', 'West Ham', 'Wolves']\n"
     ]
    }
   ],
   "source": [
    "print(sorted(pd.unique(lastseason.HomeTeam)))"
   ]
  },
  {
   "cell_type": "code",
   "execution_count": 7,
   "id": "6dd52707",
   "metadata": {},
   "outputs": [],
   "source": [
    "prevnames=['Brighton','Newcastle','Tottenham','West Ham','Wolves']\n",
    "newnames=['Brighton and Hove Albion', 'Newcastle United', 'Tottenham Hotspur', 'West Ham United','Wolverhampton Wanderers']\n",
    "\n",
    "results_df=manipulate.df_rename_vals(results_df,['HomeTeam','AwayTeam'],prevnames,newnames)\n"
   ]
  },
  {
   "cell_type": "code",
   "execution_count": 8,
   "id": "a58bffcb",
   "metadata": {},
   "outputs": [
    {
     "name": "stdout",
     "output_type": "stream",
     "text": [
      "23\n",
      "['Arsenal', 'Aston Villa', 'Bournemouth', 'Brentford', 'Brighton and Hove Albion', 'Burnley', 'Chelsea', 'Crystal Palace', 'Everton', 'Fulham', 'Leeds', 'Leicester', 'Liverpool', 'Luton Town', 'Manchester City', 'Manchester United', 'Newcastle United', 'Nottingham Forest', 'Sheffield United', 'Southampton', 'Tottenham Hotspur', 'West Ham United', 'Wolverhampton Wanderers']\n"
     ]
    }
   ],
   "source": [
    "all_teams=pd.unique(results_df.HomeTeam)\n",
    "print(len(all_teams))\n",
    "print(sorted(all_teams))"
   ]
  },
  {
   "cell_type": "code",
   "execution_count": 19,
   "id": "198b6b85",
   "metadata": {},
   "outputs": [],
   "source": [
    "fixture_df=PLScraper.scrape_pl_fixtures()\n",
    "#fixture_df.dropna(inplace=True)\n",
    "sim_until_date=datetime.datetime.now()+datetime.timedelta(days=7)\n",
    "fixture_df=fixture_df[fixture_df.Datetime<sim_until_date]"
   ]
  },
  {
   "cell_type": "code",
   "execution_count": 28,
   "id": "2170be68",
   "metadata": {
    "scrolled": false
   },
   "outputs": [],
   "source": [
    "predictions_this_weekend=SimulationEngine.predict_multiple_results(fixture_df,results_df)\n",
    "\n",
    "derived_cols=['OddsHome','OddsAway','OddsDraw']\n",
    "source_cols=['ProbHomeWin','ProbAwayWin','ProbDraw']\n",
    "\n",
    "for i in range(len(derived_cols)):\n",
    "    predictions_this_weekend[derived_cols]=predictions_this_weekend[source_cols].apply(lambda x: 1/x)\n",
    "    \n",
    "predictions_this_weekend.drop(columns=['FullSimulatedResults'],inplace=True)"
   ]
  },
  {
   "cell_type": "code",
   "execution_count": 29,
   "id": "fa1cb827",
   "metadata": {},
   "outputs": [
    {
     "data": {
      "text/html": [
       "<div>\n",
       "<style scoped>\n",
       "    .dataframe tbody tr th:only-of-type {\n",
       "        vertical-align: middle;\n",
       "    }\n",
       "\n",
       "    .dataframe tbody tr th {\n",
       "        vertical-align: top;\n",
       "    }\n",
       "\n",
       "    .dataframe thead th {\n",
       "        text-align: right;\n",
       "    }\n",
       "</style>\n",
       "<table border=\"1\" class=\"dataframe\">\n",
       "  <thead>\n",
       "    <tr style=\"text-align: right;\">\n",
       "      <th></th>\n",
       "      <th>Datetime</th>\n",
       "      <th>HomeTeam</th>\n",
       "      <th>AwayTeam</th>\n",
       "      <th>ProbHomeWin</th>\n",
       "      <th>ProbAwayWin</th>\n",
       "      <th>ProbDraw</th>\n",
       "      <th>OddsHome</th>\n",
       "      <th>OddsAway</th>\n",
       "      <th>OddsDraw</th>\n",
       "    </tr>\n",
       "  </thead>\n",
       "  <tbody>\n",
       "    <tr>\n",
       "      <th>0</th>\n",
       "      <td>2023-09-23 15:00:00</td>\n",
       "      <td>Crystal Palace</td>\n",
       "      <td>Fulham</td>\n",
       "      <td>0.461</td>\n",
       "      <td>0.348</td>\n",
       "      <td>0.191</td>\n",
       "      <td>2.169197</td>\n",
       "      <td>2.873563</td>\n",
       "      <td>5.235602</td>\n",
       "    </tr>\n",
       "    <tr>\n",
       "      <th>1</th>\n",
       "      <td>2023-09-23 15:00:00</td>\n",
       "      <td>Luton Town</td>\n",
       "      <td>Wolverhampton Wanderers</td>\n",
       "      <td>0.376</td>\n",
       "      <td>0.406</td>\n",
       "      <td>0.218</td>\n",
       "      <td>2.659574</td>\n",
       "      <td>2.463054</td>\n",
       "      <td>4.587156</td>\n",
       "    </tr>\n",
       "    <tr>\n",
       "      <th>2</th>\n",
       "      <td>2023-09-23 15:00:00</td>\n",
       "      <td>Manchester City</td>\n",
       "      <td>Nottingham Forest</td>\n",
       "      <td>0.582</td>\n",
       "      <td>0.221</td>\n",
       "      <td>0.197</td>\n",
       "      <td>1.718213</td>\n",
       "      <td>4.524887</td>\n",
       "      <td>5.076142</td>\n",
       "    </tr>\n",
       "    <tr>\n",
       "      <th>3</th>\n",
       "      <td>2023-09-23 17:30:00</td>\n",
       "      <td>Brentford</td>\n",
       "      <td>Everton</td>\n",
       "      <td>0.559</td>\n",
       "      <td>0.223</td>\n",
       "      <td>0.218</td>\n",
       "      <td>1.788909</td>\n",
       "      <td>4.484305</td>\n",
       "      <td>4.587156</td>\n",
       "    </tr>\n",
       "    <tr>\n",
       "      <th>4</th>\n",
       "      <td>2023-09-23 20:00:00</td>\n",
       "      <td>Burnley</td>\n",
       "      <td>Manchester United</td>\n",
       "      <td>0.181</td>\n",
       "      <td>0.674</td>\n",
       "      <td>0.145</td>\n",
       "      <td>5.524862</td>\n",
       "      <td>1.483680</td>\n",
       "      <td>6.896552</td>\n",
       "    </tr>\n",
       "    <tr>\n",
       "      <th>5</th>\n",
       "      <td>2023-09-24 14:00:00</td>\n",
       "      <td>Arsenal</td>\n",
       "      <td>Tottenham Hotspur</td>\n",
       "      <td>0.433</td>\n",
       "      <td>0.386</td>\n",
       "      <td>0.181</td>\n",
       "      <td>2.309469</td>\n",
       "      <td>2.590674</td>\n",
       "      <td>5.524862</td>\n",
       "    </tr>\n",
       "    <tr>\n",
       "      <th>6</th>\n",
       "      <td>2023-09-24 14:00:00</td>\n",
       "      <td>Brighton and Hove Albion</td>\n",
       "      <td>Bournemouth</td>\n",
       "      <td>0.600</td>\n",
       "      <td>0.215</td>\n",
       "      <td>0.185</td>\n",
       "      <td>1.666667</td>\n",
       "      <td>4.651163</td>\n",
       "      <td>5.405405</td>\n",
       "    </tr>\n",
       "    <tr>\n",
       "      <th>7</th>\n",
       "      <td>2023-09-24 14:00:00</td>\n",
       "      <td>Chelsea</td>\n",
       "      <td>Aston Villa</td>\n",
       "      <td>0.373</td>\n",
       "      <td>0.421</td>\n",
       "      <td>0.206</td>\n",
       "      <td>2.680965</td>\n",
       "      <td>2.375297</td>\n",
       "      <td>4.854369</td>\n",
       "    </tr>\n",
       "    <tr>\n",
       "      <th>8</th>\n",
       "      <td>2023-09-24 14:00:00</td>\n",
       "      <td>Liverpool</td>\n",
       "      <td>West Ham United</td>\n",
       "      <td>0.601</td>\n",
       "      <td>0.230</td>\n",
       "      <td>0.169</td>\n",
       "      <td>1.663894</td>\n",
       "      <td>4.347826</td>\n",
       "      <td>5.917160</td>\n",
       "    </tr>\n",
       "    <tr>\n",
       "      <th>9</th>\n",
       "      <td>2023-09-24 16:30:00</td>\n",
       "      <td>Sheffield United</td>\n",
       "      <td>Newcastle United</td>\n",
       "      <td>0.265</td>\n",
       "      <td>0.543</td>\n",
       "      <td>0.192</td>\n",
       "      <td>3.773585</td>\n",
       "      <td>1.841621</td>\n",
       "      <td>5.208333</td>\n",
       "    </tr>\n",
       "  </tbody>\n",
       "</table>\n",
       "</div>"
      ],
      "text/plain": [
       "             Datetime                  HomeTeam                 AwayTeam  \\\n",
       "0 2023-09-23 15:00:00            Crystal Palace                   Fulham   \n",
       "1 2023-09-23 15:00:00                Luton Town  Wolverhampton Wanderers   \n",
       "2 2023-09-23 15:00:00           Manchester City        Nottingham Forest   \n",
       "3 2023-09-23 17:30:00                 Brentford                  Everton   \n",
       "4 2023-09-23 20:00:00                   Burnley        Manchester United   \n",
       "5 2023-09-24 14:00:00                   Arsenal        Tottenham Hotspur   \n",
       "6 2023-09-24 14:00:00  Brighton and Hove Albion              Bournemouth   \n",
       "7 2023-09-24 14:00:00                   Chelsea              Aston Villa   \n",
       "8 2023-09-24 14:00:00                 Liverpool          West Ham United   \n",
       "9 2023-09-24 16:30:00          Sheffield United         Newcastle United   \n",
       "\n",
       "   ProbHomeWin  ProbAwayWin  ProbDraw  OddsHome  OddsAway  OddsDraw  \n",
       "0        0.461        0.348     0.191  2.169197  2.873563  5.235602  \n",
       "1        0.376        0.406     0.218  2.659574  2.463054  4.587156  \n",
       "2        0.582        0.221     0.197  1.718213  4.524887  5.076142  \n",
       "3        0.559        0.223     0.218  1.788909  4.484305  4.587156  \n",
       "4        0.181        0.674     0.145  5.524862  1.483680  6.896552  \n",
       "5        0.433        0.386     0.181  2.309469  2.590674  5.524862  \n",
       "6        0.600        0.215     0.185  1.666667  4.651163  5.405405  \n",
       "7        0.373        0.421     0.206  2.680965  2.375297  4.854369  \n",
       "8        0.601        0.230     0.169  1.663894  4.347826  5.917160  \n",
       "9        0.265        0.543     0.192  3.773585  1.841621  5.208333  "
      ]
     },
     "execution_count": 29,
     "metadata": {},
     "output_type": "execute_result"
    }
   ],
   "source": [
    "predictions_this_weekend"
   ]
  }
 ],
 "metadata": {
  "kernelspec": {
   "display_name": "Python 3 (ipykernel)",
   "language": "python",
   "name": "python3"
  },
  "language_info": {
   "codemirror_mode": {
    "name": "ipython",
    "version": 3
   },
   "file_extension": ".py",
   "mimetype": "text/x-python",
   "name": "python",
   "nbconvert_exporter": "python",
   "pygments_lexer": "ipython3",
   "version": "3.11.4"
  }
 },
 "nbformat": 4,
 "nbformat_minor": 5
}
