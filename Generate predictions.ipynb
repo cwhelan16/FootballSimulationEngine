{
 "cells": [
  {
   "cell_type": "code",
   "execution_count": 6,
   "id": "9dbe31dc",
   "metadata": {},
   "outputs": [],
   "source": [
    "import pandas as pd\n",
    "import numpy as np\n",
    "\n",
    "import SimulationEngine\n",
    "import PLScraper\n",
    "import manipulate\n",
    "\n",
    "from pandasql import sqldf\n",
    "import datetime"
   ]
  },
  {
   "cell_type": "code",
   "execution_count": 7,
   "id": "6fe1116c",
   "metadata": {},
   "outputs": [],
   "source": [
    "lastseason_fpath=\"data/2022-23 PL/2023_matchday_results.csv\"\n",
    "lastseason=pd.read_csv(lastseason_fpath)\n",
    "\n",
    "oldcols=['fixture.date','teams.home.name','goals.home','teams.away.name','goals.away']\n",
    "newcols=['Datetime','HomeTeam','HomeGoals','AwayTeam','AwayGoals']\n",
    "lastseason=manipulate.rename_cols(lastseason,oldcols,newcols)\n",
    "lastseason=lastseason[newcols]\n",
    "lastseason['Status']='FT'"
   ]
  },
  {
   "cell_type": "code",
   "execution_count": 8,
   "id": "80aaf4d2",
   "metadata": {},
   "outputs": [],
   "source": [
    "thisseason=PLScraper.scrape_pl_results()"
   ]
  },
  {
   "cell_type": "code",
   "execution_count": 9,
   "id": "c2ea8e99",
   "metadata": {},
   "outputs": [],
   "source": [
    "query='''\n",
    "    WITH FINAL AS\n",
    "    (\n",
    "     SELECT Datetime, HomeTeam, HomeGoals, AwayTeam, AwayGoals, Status\n",
    "    FROM lastseason\n",
    "    \n",
    "    UNION ALL\n",
    "    \n",
    "    SELECT Datetime, HomeTeam, HomeGoals, AwayTeam, AwayGoals, Status\n",
    "    FROM thisseason\n",
    "    WHERE\n",
    "    Datetime > (SELECT MAX(Datetime) FROM lastseason)\n",
    "    AND Status='FT'\n",
    "    )\n",
    "    SELECT *\n",
    "    FROM FINAL\n",
    "    ORDER BY Datetime DESC;\n",
    "    '''\n",
    "\n",
    "results_df=sqldf(query)\n",
    "\n",
    "results_df=manipulate.df_strings_to_numbers(results_df,['HomeGoals','AwayGoals'])"
   ]
  },
  {
   "cell_type": "code",
   "execution_count": 10,
   "id": "2a26a0b5",
   "metadata": {},
   "outputs": [
    {
     "name": "stdout",
     "output_type": "stream",
     "text": [
      "27\n",
      "['Arsenal', 'Aston Villa', 'Bournemouth', 'Brentford', 'Brighton', 'Brighton and Hove Albion', 'Burnley', 'Chelsea', 'Crystal Palace', 'Everton', 'Fulham', 'Leeds', 'Leicester', 'Liverpool', 'Manchester City', 'Manchester United', 'Newcastle', 'Newcastle United', 'Nottingham Forest', 'Sheffield United', 'Southampton', 'Tottenham', 'Tottenham Hotspur', 'West Ham', 'West Ham United', 'Wolverhampton Wanderers', 'Wolves']\n"
     ]
    }
   ],
   "source": [
    "all_teams=pd.unique(results_df.HomeTeam)\n",
    "print(len(all_teams))\n",
    "print(sorted(all_teams))"
   ]
  },
  {
   "cell_type": "code",
   "execution_count": 11,
   "id": "6d58edb9",
   "metadata": {},
   "outputs": [
    {
     "name": "stdout",
     "output_type": "stream",
     "text": [
      "['Arsenal', 'Aston Villa', 'Bournemouth', 'Brentford', 'Brighton', 'Chelsea', 'Crystal Palace', 'Everton', 'Fulham', 'Leeds', 'Leicester', 'Liverpool', 'Manchester City', 'Manchester United', 'Newcastle', 'Nottingham Forest', 'Southampton', 'Tottenham', 'West Ham', 'Wolves']\n"
     ]
    }
   ],
   "source": [
    "print(sorted(pd.unique(lastseason.HomeTeam)))"
   ]
  },
  {
   "cell_type": "code",
   "execution_count": 12,
   "id": "6dd52707",
   "metadata": {},
   "outputs": [],
   "source": [
    "prevnames=['Brighton','Newcastle','Tottenham','West Ham']\n",
    "newnames=['Brighton and Hove Albion', 'Newcastle United', 'Tottenham Hotspur', 'West Ham United']\n",
    "\n",
    "results_df=manipulate.df_rename_vals(results_df,['HomeTeam','AwayTeam'],prevnames,newnames)\n"
   ]
  },
  {
   "cell_type": "code",
   "execution_count": 13,
   "id": "a58bffcb",
   "metadata": {},
   "outputs": [
    {
     "name": "stdout",
     "output_type": "stream",
     "text": [
      "23\n",
      "['Arsenal', 'Aston Villa', 'Bournemouth', 'Brentford', 'Brighton and Hove Albion', 'Burnley', 'Chelsea', 'Crystal Palace', 'Everton', 'Fulham', 'Leeds', 'Leicester', 'Liverpool', 'Manchester City', 'Manchester United', 'Newcastle United', 'Nottingham Forest', 'Sheffield United', 'Southampton', 'Tottenham Hotspur', 'West Ham United', 'Wolverhampton Wanderers', 'Wolves']\n"
     ]
    }
   ],
   "source": [
    "all_teams=pd.unique(results_df.HomeTeam)\n",
    "print(len(all_teams))\n",
    "print(sorted(all_teams))"
   ]
  },
  {
   "cell_type": "code",
   "execution_count": 14,
   "id": "198b6b85",
   "metadata": {},
   "outputs": [],
   "source": [
    "fixture_df=PLScraper.scrape_pl_fixtures()\n",
    "sim_until_date=datetime.datetime.now()+datetime.timedelta(days=7)\n",
    "fixture_df=fixture_df[fixture_df.Datetime<sim_until_date]"
   ]
  },
  {
   "cell_type": "code",
   "execution_count": 22,
   "id": "2170be68",
   "metadata": {
    "scrolled": false
   },
   "outputs": [],
   "source": [
    "predictions_this_weekend=SimulationEngine.predict_multiple_results(fixture_df,results_df)\n",
    "\n",
    "derived_cols=['OddsHome','OddsAway','OddsDraw']\n",
    "source_cols=['ProbHomeWin','ProbAwayWin','ProbDraw']\n",
    "\n",
    "for i in range(len(derived_cols)):\n",
    "    predictions_this_weekend[derived_cols]=predictions_this_weekend[source_cols].apply(lambda x: 1/x)"
   ]
  },
  {
   "cell_type": "code",
   "execution_count": 23,
   "id": "23ab2c65",
   "metadata": {},
   "outputs": [
    {
     "data": {
      "text/html": [
       "<div>\n",
       "<style scoped>\n",
       "    .dataframe tbody tr th:only-of-type {\n",
       "        vertical-align: middle;\n",
       "    }\n",
       "\n",
       "    .dataframe tbody tr th {\n",
       "        vertical-align: top;\n",
       "    }\n",
       "\n",
       "    .dataframe thead th {\n",
       "        text-align: right;\n",
       "    }\n",
       "</style>\n",
       "<table border=\"1\" class=\"dataframe\">\n",
       "  <thead>\n",
       "    <tr style=\"text-align: right;\">\n",
       "      <th></th>\n",
       "      <th>Datetime</th>\n",
       "      <th>HomeTeam</th>\n",
       "      <th>AwayTeam</th>\n",
       "      <th>ProbHomeWin</th>\n",
       "      <th>ProbAwayWin</th>\n",
       "      <th>ProbDraw</th>\n",
       "      <th>FullSimulatedResults</th>\n",
       "      <th>OddsHome</th>\n",
       "      <th>OddsAway</th>\n",
       "      <th>OddsDraw</th>\n",
       "    </tr>\n",
       "  </thead>\n",
       "  <tbody>\n",
       "    <tr>\n",
       "      <th>0</th>\n",
       "      <td>2023-09-01 20:00:00</td>\n",
       "      <td>Luton Town</td>\n",
       "      <td>West Ham United</td>\n",
       "      <td>0.137</td>\n",
       "      <td>0.721</td>\n",
       "      <td>0.142</td>\n",
       "      <td>None</td>\n",
       "      <td>7.299270</td>\n",
       "      <td>1.386963</td>\n",
       "      <td>7.042254</td>\n",
       "    </tr>\n",
       "    <tr>\n",
       "      <th>1</th>\n",
       "      <td>2023-09-02 12:30:00</td>\n",
       "      <td>Sheffield United</td>\n",
       "      <td>Everton</td>\n",
       "      <td>0.336</td>\n",
       "      <td>0.468</td>\n",
       "      <td>0.196</td>\n",
       "      <td>None</td>\n",
       "      <td>2.976190</td>\n",
       "      <td>2.136752</td>\n",
       "      <td>5.102041</td>\n",
       "    </tr>\n",
       "    <tr>\n",
       "      <th>2</th>\n",
       "      <td>2023-09-02 15:00:00</td>\n",
       "      <td>Brentford</td>\n",
       "      <td>Bournemouth</td>\n",
       "      <td>0.716</td>\n",
       "      <td>0.131</td>\n",
       "      <td>0.153</td>\n",
       "      <td>None</td>\n",
       "      <td>1.396648</td>\n",
       "      <td>7.633588</td>\n",
       "      <td>6.535948</td>\n",
       "    </tr>\n",
       "    <tr>\n",
       "      <th>3</th>\n",
       "      <td>2023-09-02 15:00:00</td>\n",
       "      <td>Burnley</td>\n",
       "      <td>Tottenham Hotspur</td>\n",
       "      <td>0.175</td>\n",
       "      <td>0.693</td>\n",
       "      <td>0.132</td>\n",
       "      <td>None</td>\n",
       "      <td>5.714286</td>\n",
       "      <td>1.443001</td>\n",
       "      <td>7.575758</td>\n",
       "    </tr>\n",
       "    <tr>\n",
       "      <th>4</th>\n",
       "      <td>2023-09-02 15:00:00</td>\n",
       "      <td>Chelsea</td>\n",
       "      <td>Nottingham Forest</td>\n",
       "      <td>0.337</td>\n",
       "      <td>0.473</td>\n",
       "      <td>0.190</td>\n",
       "      <td>None</td>\n",
       "      <td>2.967359</td>\n",
       "      <td>2.114165</td>\n",
       "      <td>5.263158</td>\n",
       "    </tr>\n",
       "    <tr>\n",
       "      <th>5</th>\n",
       "      <td>2023-09-02 15:00:00</td>\n",
       "      <td>Manchester City</td>\n",
       "      <td>Fulham</td>\n",
       "      <td>0.609</td>\n",
       "      <td>0.206</td>\n",
       "      <td>0.185</td>\n",
       "      <td>None</td>\n",
       "      <td>1.642036</td>\n",
       "      <td>4.854369</td>\n",
       "      <td>5.405405</td>\n",
       "    </tr>\n",
       "    <tr>\n",
       "      <th>6</th>\n",
       "      <td>2023-09-02 17:30:00</td>\n",
       "      <td>Brighton and Hove Albion</td>\n",
       "      <td>Newcastle United</td>\n",
       "      <td>0.315</td>\n",
       "      <td>0.499</td>\n",
       "      <td>0.186</td>\n",
       "      <td>None</td>\n",
       "      <td>3.174603</td>\n",
       "      <td>2.004008</td>\n",
       "      <td>5.376344</td>\n",
       "    </tr>\n",
       "    <tr>\n",
       "      <th>7</th>\n",
       "      <td>2023-09-03 14:00:00</td>\n",
       "      <td>Crystal Palace</td>\n",
       "      <td>Wolverhampton Wanderers</td>\n",
       "      <td>0.574</td>\n",
       "      <td>0.221</td>\n",
       "      <td>0.205</td>\n",
       "      <td>None</td>\n",
       "      <td>1.742160</td>\n",
       "      <td>4.524887</td>\n",
       "      <td>4.878049</td>\n",
       "    </tr>\n",
       "    <tr>\n",
       "      <th>8</th>\n",
       "      <td>2023-09-03 14:00:00</td>\n",
       "      <td>Liverpool</td>\n",
       "      <td>Aston Villa</td>\n",
       "      <td>0.471</td>\n",
       "      <td>0.331</td>\n",
       "      <td>0.198</td>\n",
       "      <td>None</td>\n",
       "      <td>2.123142</td>\n",
       "      <td>3.021148</td>\n",
       "      <td>5.050505</td>\n",
       "    </tr>\n",
       "    <tr>\n",
       "      <th>9</th>\n",
       "      <td>2023-09-03 16:30:00</td>\n",
       "      <td>Arsenal</td>\n",
       "      <td>Manchester United</td>\n",
       "      <td>0.374</td>\n",
       "      <td>0.410</td>\n",
       "      <td>0.216</td>\n",
       "      <td>None</td>\n",
       "      <td>2.673797</td>\n",
       "      <td>2.439024</td>\n",
       "      <td>4.629630</td>\n",
       "    </tr>\n",
       "  </tbody>\n",
       "</table>\n",
       "</div>"
      ],
      "text/plain": [
       "             Datetime                  HomeTeam                 AwayTeam  \\\n",
       "0 2023-09-01 20:00:00                Luton Town          West Ham United   \n",
       "1 2023-09-02 12:30:00          Sheffield United                  Everton   \n",
       "2 2023-09-02 15:00:00                 Brentford              Bournemouth   \n",
       "3 2023-09-02 15:00:00                   Burnley        Tottenham Hotspur   \n",
       "4 2023-09-02 15:00:00                   Chelsea        Nottingham Forest   \n",
       "5 2023-09-02 15:00:00           Manchester City                   Fulham   \n",
       "6 2023-09-02 17:30:00  Brighton and Hove Albion         Newcastle United   \n",
       "7 2023-09-03 14:00:00            Crystal Palace  Wolverhampton Wanderers   \n",
       "8 2023-09-03 14:00:00                 Liverpool              Aston Villa   \n",
       "9 2023-09-03 16:30:00                   Arsenal        Manchester United   \n",
       "\n",
       "   ProbHomeWin  ProbAwayWin  ProbDraw FullSimulatedResults  OddsHome  \\\n",
       "0        0.137        0.721     0.142                 None  7.299270   \n",
       "1        0.336        0.468     0.196                 None  2.976190   \n",
       "2        0.716        0.131     0.153                 None  1.396648   \n",
       "3        0.175        0.693     0.132                 None  5.714286   \n",
       "4        0.337        0.473     0.190                 None  2.967359   \n",
       "5        0.609        0.206     0.185                 None  1.642036   \n",
       "6        0.315        0.499     0.186                 None  3.174603   \n",
       "7        0.574        0.221     0.205                 None  1.742160   \n",
       "8        0.471        0.331     0.198                 None  2.123142   \n",
       "9        0.374        0.410     0.216                 None  2.673797   \n",
       "\n",
       "   OddsAway  OddsDraw  \n",
       "0  1.386963  7.042254  \n",
       "1  2.136752  5.102041  \n",
       "2  7.633588  6.535948  \n",
       "3  1.443001  7.575758  \n",
       "4  2.114165  5.263158  \n",
       "5  4.854369  5.405405  \n",
       "6  2.004008  5.376344  \n",
       "7  4.524887  4.878049  \n",
       "8  3.021148  5.050505  \n",
       "9  2.439024  4.629630  "
      ]
     },
     "execution_count": 23,
     "metadata": {},
     "output_type": "execute_result"
    }
   ],
   "source": [
    "predictions_this_weekend"
   ]
  }
 ],
 "metadata": {
  "kernelspec": {
   "display_name": "Python 3 (ipykernel)",
   "language": "python",
   "name": "python3"
  },
  "language_info": {
   "codemirror_mode": {
    "name": "ipython",
    "version": 3
   },
   "file_extension": ".py",
   "mimetype": "text/x-python",
   "name": "python",
   "nbconvert_exporter": "python",
   "pygments_lexer": "ipython3",
   "version": "3.11.4"
  }
 },
 "nbformat": 4,
 "nbformat_minor": 5
}
