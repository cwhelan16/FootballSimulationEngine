{
 "cells": [
  {
   "cell_type": "code",
   "execution_count": 1,
   "id": "daf2a5e4",
   "metadata": {},
   "outputs": [],
   "source": [
    "import pandas as pd\n",
    "import numpy as np"
   ]
  },
  {
   "cell_type": "code",
   "execution_count": 61,
   "id": "72dcdeb4",
   "metadata": {},
   "outputs": [],
   "source": [
    "def get_rates(hometeam,awayteam,dataset,num_games=10,method=1):\n",
    "    '''\n",
    "    Function to get transition rates for hometeam and awayteam scoring respectively.\n",
    "    Inputs:\n",
    "    hometeam - name of home team as in dataset\n",
    "    awayteam - name of away team as in dataset\n",
    "    dataset - dataset of historical results. This function expects the dataset input to have the following columns:\n",
    "        Date - of the given historical fixture\n",
    "        HomeTeam - name of the home team in a given fixture\n",
    "        HomeTeamGoals - number of goals scored by HomeTeam in a given fixture\n",
    "        AwayTeam -name of the away team in a given fixture\n",
    "        AwayTeamGoals - number of goals scored in a given fixture\n",
    "        Additionally, dataset must be sorted by descending Date (i.e. most recent historical fixtures occur first)\n",
    "    num_games - number of historical figures to average over\n",
    "    method - method for calculating the transition rates:\n",
    "        1. Average of goals scored by team in the last num_games and goals conceded by their opponent in the last num_games\n",
    "    '''\n",
    "    num_games_home=min(len(dataset.Date[(dataset.HomeTeam==hometeam)|(dataset.AwayTeam==hometeam)]),num_games)\n",
    "    dates_home=dataset.Date[(dataset.HomeTeam==hometeam)|(dataset.AwayTeam==hometeam)].reset_index(drop=True)\n",
    "    earliest_date_home=dates_home[num_games_home-1]\n",
    "    home_goals_for=np.sum(dataset.HomeTeamGoals[dataset.HomeTeam==hometeam][dataset.Date>=earliest_date_home])+ np.sum(dataset.AwayTeamGoals[dataset.AwayTeam==hometeam][dataset.Date>=earliest_date_home])\n",
    "    home_goals_against=np.sum(dataset.AwayTeamGoals[dataset.HomeTeam==hometeam][dataset.Date>=earliest_date_home])+ np.sum(dataset.HomeTeamGoals[dataset.AwayTeam==hometeam][dataset.Date>=earliest_date_home])\n",
    "    \n",
    "    num_games_away=min(len(dataset.Date[(dataset.AwayTeam==awayteam)|(dataset.HomeTeam==awayteam)]),num_games)\n",
    "    dates_away=dataset.Date[(dataset.AwayTeam==awayteam)|(dataset.HomeTeam==awayteam)].reset_index(drop=True)\n",
    "    earliest_date_away=dates_away[num_games_away-1]\n",
    "    away_goals_for=np.sum(dataset.AwayTeamGoals[dataset.AwayTeam==awayteam][dataset.Date>=earliest_date_away])+ np.sum(dataset.HomeTeamGoals[dataset.HomeTeam==awayteam][dataset.Date>=earliest_date_away])\n",
    "    away_goals_against=np.sum(dataset.AwayTeamGoals[dataset.HomeTeam==awayteam][dataset.Date>=earliest_date_away])+ np.sum(dataset.HomeTeamGoals[dataset.AwayTeam==awayteam][dataset.Date>=earliest_date_away])\n",
    "    \n",
    "    if method==1:\n",
    "        rate_home=(home_goals_for/num_games_home + away_goals_against/num_games_away)/2\n",
    "        rate_away=(away_goals_for/num_games_away + home_goals_against/num_games_home)/2\n",
    "    \n",
    "    return [rate_home,rate_away]\n",
    "        "
   ]
  },
  {
   "cell_type": "code",
   "execution_count": 188,
   "id": "b2e5a4a6",
   "metadata": {},
   "outputs": [],
   "source": [
    "def gillespie(rates,rseed=None):\n",
    "    score=[0,0]\n",
    "    if rseed is not None:\n",
    "        np.random.set_state(rseed)\n",
    "    t=0\n",
    "    while t<1:\n",
    "        dt=np.random.exponential(scale=1/sum(rates))\n",
    "        whoscored=np.random.choice([0,1],p=rates/sum(rates))\n",
    "        score[whoscored]+=1\n",
    "        t+=dt\n",
    "    return score"
   ]
  },
  {
   "cell_type": "code",
   "execution_count": 18,
   "id": "b8be3a12",
   "metadata": {},
   "outputs": [],
   "source": [
    "pl_results=pd.read_csv(r\"data\\2022-23 PL\\2023_matchday_results.csv\")\n",
    "pl_results.head()\n",
    "\n",
    "rename_cols_dict={'fixture.date':'Date','teams.home.name':'HomeTeam','teams.away.name':'AwayTeam','goals.home':'HomeTeamGoals','goals.away':'AwayTeamGoals'}\n",
    "results=pl_results[rename_cols_dict.keys()].rename(columns=rename_cols_dict).sort_values(by='Date',ascending=False)"
   ]
  },
  {
   "cell_type": "code",
   "execution_count": 64,
   "id": "7dbae251",
   "metadata": {},
   "outputs": [
    {
     "name": "stdout",
     "output_type": "stream",
     "text": [
      "[1.6500000000000001, 1.5]\n"
     ]
    }
   ],
   "source": [
    "test_rates=get_rates('Liverpool','Manchester United',results)\n",
    "print(test_rates)"
   ]
  },
  {
   "cell_type": "code",
   "execution_count": 202,
   "id": "7fc45c97",
   "metadata": {},
   "outputs": [],
   "source": [
    "def predict_result(hometeam,awayteam,dataset,num_games=10,method=1,num_simulations=1000):\n",
    "    rates=get_rates(hometeam,awayteam,dataset,num_games=num_games,method=method)\n",
    "    res=[]\n",
    "    for i in range(num_simulations):\n",
    "        res.append(gillespie(rates))\n",
    "    res=np.array(res)\n",
    "    n_home_wins=len(res[res[:,0]>res[:,1]])\n",
    "    n_away_wins=len(res[res[:,0]<res[:,1]])\n",
    "    n_draws=num_simulations-n_home_wins-n_away_wins\n",
    "    p_home_win, p_away_win, p_draw = n_home_wins/num_simulations, n_away_wins/num_simulations, n_draws/num_simulations\n",
    "    return {'ProbHomeWin':p_home_win,'ProbAwayWin':p_away_win,'ProbDraw':p_draw,'FullSimulatedResults':res}"
   ]
  },
  {
   "cell_type": "code",
   "execution_count": 206,
   "id": "852febb9",
   "metadata": {},
   "outputs": [
    {
     "data": {
      "text/plain": [
       "{'ProbHomeWin': 0.257,\n",
       " 'ProbAwayWin': 0.574,\n",
       " 'ProbDraw': 0.169,\n",
       " 'FullSimulatedResults': array([[1, 2],\n",
       "        [1, 1],\n",
       "        [1, 2],\n",
       "        ...,\n",
       "        [2, 2],\n",
       "        [2, 3],\n",
       "        [1, 4]])}"
      ]
     },
     "execution_count": 206,
     "metadata": {},
     "output_type": "execute_result"
    }
   ],
   "source": [
    "predict_result('Chelsea','Arsenal',results)"
   ]
  },
  {
   "cell_type": "code",
   "execution_count": 190,
   "id": "ff128b08",
   "metadata": {},
   "outputs": [],
   "source": [
    "for i in range(N):\n",
    "    res.append(gillespie(test_rates))"
   ]
  },
  {
   "cell_type": "code",
   "execution_count": 197,
   "id": "fff41a31",
   "metadata": {},
   "outputs": [
    {
     "data": {
      "text/plain": [
       "370"
      ]
     },
     "execution_count": 197,
     "metadata": {},
     "output_type": "execute_result"
    }
   ],
   "source": [
    "len(np.array(res)[np.array(res)[:,0]<np.array(res)[:,1]])"
   ]
  },
  {
   "cell_type": "code",
   "execution_count": null,
   "id": "748f9a69",
   "metadata": {},
   "outputs": [],
   "source": []
  }
 ],
 "metadata": {
  "kernelspec": {
   "display_name": "Python 3 (ipykernel)",
   "language": "python",
   "name": "python3"
  },
  "language_info": {
   "codemirror_mode": {
    "name": "ipython",
    "version": 3
   },
   "file_extension": ".py",
   "mimetype": "text/x-python",
   "name": "python",
   "nbconvert_exporter": "python",
   "pygments_lexer": "ipython3",
   "version": "3.11.4"
  }
 },
 "nbformat": 4,
 "nbformat_minor": 5
}
